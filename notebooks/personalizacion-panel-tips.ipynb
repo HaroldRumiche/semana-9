{
 "cells": [
  {
   "cell_type": "markdown",
   "id": "f4bb2a09",
   "metadata": {},
   "source": [
    "# Cargar Archivo Markdown\n",
    "Usa Python para cargar el archivo `personalizacion-panel.md` y leer su contenido utilizando la biblioteca `markdown` o `open`."
   ]
  },
  {
   "cell_type": "code",
   "execution_count": null,
   "id": "b475a429",
   "metadata": {},
   "outputs": [],
   "source": [
    "# Importar bibliotecas necesarias\n",
    "import os\n",
    "\n",
    "# Ruta del archivo Markdown\n",
    "markdown_file_path = r\"e:\\Rumiche-Caso\\semana-9\\docs\\acceso-navegacion\\personalizacion-panel.md\"\n",
    "\n",
    "# Leer el contenido del archivo Markdown\n",
    "with open(markdown_file_path, \"r\", encoding=\"utf-8\") as file:\n",
    "    markdown_content = file.read()\n",
    "\n",
    "# Mostrar las primeras líneas del contenido\n",
    "print(markdown_content[:500])"
   ]
  },
  {
   "cell_type": "markdown",
   "id": "3b031e10",
   "metadata": {},
   "source": [
    "# Agregar Sección de Tips Rápidos\n",
    "Define una nueva sección en el archivo Markdown con tips rápidos, como atajos de teclado o configuraciones útiles del Inspector de Elementos."
   ]
  },
  {
   "cell_type": "code",
   "execution_count": null,
   "id": "992ab517",
   "metadata": {},
   "outputs": [],
   "source": [
    "# Definir una nueva sección de tips rápidos\n",
    "tips_section = \"\"\"\n",
    "## Tips Rápidos para el Inspector de Elementos\n",
    "\n",
    "1. **Atajos de teclado útiles**:\n",
    "   - `Ctrl + Shift + C` (Windows/Linux) o `Cmd + Shift + C` (Mac): Abre el Inspector de Elementos directamente.\n",
    "   - `Ctrl + P`: Busca archivos o recursos rápidamente.\n",
    "   - `Ctrl + Shift + M`: Alterna al modo de vista móvil.\n",
    "\n",
    "2. **Configuraciones recomendadas**:\n",
    "   - Activa **Highlight updates** para resaltar cambios dinámicos en el DOM.\n",
    "   - Usa **Persist logs** en la pestaña Console para mantener los registros entre recargas.\n",
    "\n",
    "3. **Paneles adicionales**:\n",
    "   - Usa el panel **Rendering** para simular condiciones como baja velocidad de red o emular un tema oscuro.\n",
    "   - Explora el panel **Performance monitor** para identificar cuellos de botella en el rendimiento.\n",
    "\"\"\"\n",
    "\n",
    "# Agregar la nueva sección al contenido existente\n",
    "updated_markdown_content = markdown_content + \"\\n\\n\" + tips_section"
   ]
  },
  {
   "cell_type": "markdown",
   "id": "efe082ea",
   "metadata": {},
   "source": [
    "# Guardar Cambios en el Archivo\n",
    "Escribe los cambios realizados en el archivo Markdown original utilizando `open` en modo escritura."
   ]
  },
  {
   "cell_type": "code",
   "execution_count": null,
   "id": "d37d775f",
   "metadata": {},
   "outputs": [],
   "source": [
    "# Guardar el contenido actualizado en el archivo Markdown\n",
    "with open(markdown_file_path, \"w\", encoding=\"utf-8\") as file:\n",
    "    file.write(updated_markdown_content)\n",
    "\n",
    "print(\"Sección de tips rápidos añadida y archivo guardado correctamente.\")"
   ]
  },
  {
   "cell_type": "markdown",
   "id": "b71c7412",
   "metadata": {},
   "source": [
    "# Previsualizar Markdown\n",
    "Utiliza una biblioteca como `markdown` o `nbconvert` para previsualizar el contenido del archivo Markdown en formato HTML."
   ]
  },
  {
   "cell_type": "code",
   "execution_count": null,
   "id": "7194b501",
   "metadata": {},
   "outputs": [],
   "source": [
    "# Convertir el contenido Markdown a HTML para previsualización\n",
    "from markdown import markdown\n",
    "\n",
    "# Convertir a HTML\n",
    "html_preview = markdown(updated_markdown_content)\n",
    "\n",
    "# Guardar la previsualización en un archivo HTML\n",
    "html_file_path = r\"e:\\Rumiche-Caso\\semana-9\\docs\\acceso-navegacion\\personalizacion-panel-preview.html\"\n",
    "with open(html_file_path, \"w\", encoding=\"utf-8\") as file:\n",
    "    file.write(html_preview)\n",
    "\n",
    "print(f\"Previsualización guardada en: {html_file_path}\")"
   ]
  }
 ],
 "metadata": {
  "language_info": {
   "name": "python"
  }
 },
 "nbformat": 4,
 "nbformat_minor": 5
}
